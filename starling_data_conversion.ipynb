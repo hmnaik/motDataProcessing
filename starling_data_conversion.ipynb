{
 "cells": [
  {
   "cell_type": "code",
   "execution_count": 1,
   "metadata": {},
   "outputs": [],
   "source": [
    "import pandas as pd\n",
    "import os \n",
    "import glob \n"
   ]
  },
  {
   "cell_type": "markdown",
   "metadata": {},
   "source": [
    "Get directory name and create folders with the same name as the .csv file"
   ]
  },
  {
   "cell_type": "code",
   "execution_count": 21,
   "metadata": {},
   "outputs": [],
   "source": [
    "directory = \"data\\\\barn data\"\n",
    "os.path.exists(directory)\n",
    "files = glob.glob(os.path.join(directory,\"*.csv\"))\n",
    "directoryNames = []"
   ]
  },
  {
   "cell_type": "markdown",
   "metadata": {},
   "source": [
    "Read .csv files, separate the .csv files based on pattern ID and create new .csv files "
   ]
  },
  {
   "cell_type": "code",
   "execution_count": 22,
   "metadata": {},
   "outputs": [
    {
     "name": "stdout",
     "output_type": "stream",
     "text": [
      "ST01b.vsk\n",
      "data\\barn data\\Starling_Trials_07-12-2019_11-00-00RESULT\\ST01b.vsk.csv\n",
      "ST02b.vsk\n",
      "data\\barn data\\Starling_Trials_07-12-2019_11-00-00RESULT\\ST02b.vsk.csv\n",
      "ST06b.vsk\n",
      "data\\barn data\\Starling_Trials_07-12-2019_11-00-00RESULT\\ST06b.vsk.csv\n",
      "ST07b.vsk\n",
      "data\\barn data\\Starling_Trials_07-12-2019_11-00-00RESULT\\ST07b.vsk.csv\n",
      "ST08b.vsk\n",
      "data\\barn data\\Starling_Trials_07-12-2019_11-00-00RESULT\\ST08b.vsk.csv\n",
      "ST09.vsk\n",
      "data\\barn data\\Starling_Trials_07-12-2019_11-00-00RESULT\\ST09.vsk.csv\n",
      "ST11b.vsk\n",
      "data\\barn data\\Starling_Trials_07-12-2019_11-00-00RESULT\\ST11b.vsk.csv\n",
      "ST12a.vsk\n",
      "data\\barn data\\Starling_Trials_07-12-2019_11-00-00RESULT\\ST12a.vsk.csv\n",
      "ST13b.vsk\n",
      "data\\barn data\\Starling_Trials_07-12-2019_11-00-00RESULT\\ST13b.vsk.csv\n",
      "ST14b.vsk\n",
      "data\\barn data\\Starling_Trials_07-12-2019_11-00-00RESULT\\ST14b.vsk.csv\n",
      "ST17b.vsk\n",
      "data\\barn data\\Starling_Trials_07-12-2019_11-00-00RESULT\\ST17b.vsk.csv\n",
      "ST01b.vsk\n",
      "data\\barn data\\Starling_Trials_07-12-2019_11-00-00RESULT\\ST01b.vsk.csv\n",
      "ST01b.vsk\n",
      "data\\barn data\\Starling_Trials_07-12-2019_11-15-00RESULT\\ST01b.vsk.csv\n",
      "ST02b.vsk\n",
      "data\\barn data\\Starling_Trials_07-12-2019_11-15-00RESULT\\ST02b.vsk.csv\n",
      "ST06b.vsk\n",
      "data\\barn data\\Starling_Trials_07-12-2019_11-15-00RESULT\\ST06b.vsk.csv\n",
      "ST07b.vsk\n",
      "data\\barn data\\Starling_Trials_07-12-2019_11-15-00RESULT\\ST07b.vsk.csv\n",
      "ST08b.vsk\n",
      "data\\barn data\\Starling_Trials_07-12-2019_11-15-00RESULT\\ST08b.vsk.csv\n",
      "ST09.vsk\n",
      "data\\barn data\\Starling_Trials_07-12-2019_11-15-00RESULT\\ST09.vsk.csv\n",
      "ST11b.vsk\n",
      "data\\barn data\\Starling_Trials_07-12-2019_11-15-00RESULT\\ST11b.vsk.csv\n",
      "ST12a.vsk\n",
      "data\\barn data\\Starling_Trials_07-12-2019_11-15-00RESULT\\ST12a.vsk.csv\n",
      "ST13b.vsk\n",
      "data\\barn data\\Starling_Trials_07-12-2019_11-15-00RESULT\\ST13b.vsk.csv\n",
      "ST14b.vsk\n",
      "data\\barn data\\Starling_Trials_07-12-2019_11-15-00RESULT\\ST14b.vsk.csv\n",
      "ST17b.vsk\n",
      "data\\barn data\\Starling_Trials_07-12-2019_11-15-00RESULT\\ST17b.vsk.csv\n",
      "ST01b.vsk\n",
      "data\\barn data\\Starling_Trials_07-12-2019_11-15-00RESULT\\ST01b.vsk.csv\n",
      "New directories ['data\\\\barn data\\\\Starling_Trials_07-12-2019_11-00-00RESULT', 'data\\\\barn data\\\\Starling_Trials_07-12-2019_11-15-00RESULT']\n"
     ]
    }
   ],
   "source": [
    "for file in files : \n",
    "    if os.path.exists(file):\n",
    "        # make folder based on file name \n",
    "        fileName = os.path.basename(file)\n",
    "        fileName = fileName.split(\".\")[0]\n",
    "        dirName = os.path.join(directory,fileName)\n",
    "        directoryNames.append(dirName)\n",
    "        if os.path.exists(dirName):\n",
    "            print(\"The direcotry exists\")\n",
    "        else:\n",
    "            os.mkdir(dirName)\n",
    "\n",
    "        # Read the file and create multiple files \n",
    "        dFrame = pd.read_csv(file)\n",
    "        # get name of 12 patterns \n",
    "        series = dFrame.loc[:11,[\"patternID\"]].values\n",
    "        # Get names of patterns \n",
    "        listofobj = series.tolist()\n",
    "        for i in listofobj:\n",
    "            name = i[0]\n",
    "            print(name)\n",
    "            frame = dFrame[dFrame[\"patternID\"]== str(name)]\n",
    "            patternFile = os.path.join(dirName , str(name) + \".csv\")\n",
    "            print(patternFile)\n",
    "            frame.to_csv(patternFile )\n",
    "    else:\n",
    "        print(\"Given file does not exist\")\n",
    "    \n",
    "    \n",
    "print(\"New directories {0}\".format(directoryNames))"
   ]
  },
  {
   "cell_type": "markdown",
   "metadata": {},
   "source": [
    "## Making stats about the data given in the files \n",
    "\n",
    "We go through each newly made directory and get all the .csv files (i.e. for each pattern ) and creates a summary file \n"
   ]
  },
  {
   "cell_type": "code",
   "execution_count": 24,
   "metadata": {},
   "outputs": [
    {
     "name": "stdout",
     "output_type": "stream",
     "text": [
      "data\\barn data\\Starling_Trials_07-12-2019_11-00-00RESULT\n",
      "data\\barn data\\Starling_Trials_07-12-2019_11-00-00RESULT\\ST01b.vsk.csv\n",
      "Data data\\barn data\\Starling_Trials_07-12-2019_11-00-00RESULT\\ST01b.vsk.csv : 88966/88999 , 99.96292093169586\n",
      "data\\barn data\\Starling_Trials_07-12-2019_11-00-00RESULT\\ST02b.vsk.csv\n",
      "Data data\\barn data\\Starling_Trials_07-12-2019_11-00-00RESULT\\ST02b.vsk.csv : 88998/88999 , 99.99887639186957\n",
      "data\\barn data\\Starling_Trials_07-12-2019_11-00-00RESULT\\ST06b.vsk.csv\n",
      "Data data\\barn data\\Starling_Trials_07-12-2019_11-00-00RESULT\\ST06b.vsk.csv : 86882/88999 , 97.62132158788302\n",
      "data\\barn data\\Starling_Trials_07-12-2019_11-00-00RESULT\\ST07b.vsk.csv\n",
      "Data data\\barn data\\Starling_Trials_07-12-2019_11-00-00RESULT\\ST07b.vsk.csv : 87581/88999 , 98.40672367105249\n",
      "data\\barn data\\Starling_Trials_07-12-2019_11-00-00RESULT\\ST08b.vsk.csv\n",
      "Data data\\barn data\\Starling_Trials_07-12-2019_11-00-00RESULT\\ST08b.vsk.csv : 88998/88999 , 99.99887639186957\n",
      "data\\barn data\\Starling_Trials_07-12-2019_11-00-00RESULT\\ST09.vsk.csv\n",
      "Data data\\barn data\\Starling_Trials_07-12-2019_11-00-00RESULT\\ST09.vsk.csv : 87713/88999 , 98.55503994426904\n",
      "data\\barn data\\Starling_Trials_07-12-2019_11-00-00RESULT\\ST11b.vsk.csv\n",
      "Data data\\barn data\\Starling_Trials_07-12-2019_11-00-00RESULT\\ST11b.vsk.csv : 88645/88999 , 99.60224272182833\n",
      "data\\barn data\\Starling_Trials_07-12-2019_11-00-00RESULT\\ST12a.vsk.csv\n",
      "Data data\\barn data\\Starling_Trials_07-12-2019_11-00-00RESULT\\ST12a.vsk.csv : 87902/88999 , 98.76740188092\n",
      "data\\barn data\\Starling_Trials_07-12-2019_11-00-00RESULT\\ST13b.vsk.csv\n",
      "Data data\\barn data\\Starling_Trials_07-12-2019_11-00-00RESULT\\ST13b.vsk.csv : 82784/88999 , 93.0167754693873\n",
      "data\\barn data\\Starling_Trials_07-12-2019_11-00-00RESULT\\ST14b.vsk.csv\n",
      "Data data\\barn data\\Starling_Trials_07-12-2019_11-00-00RESULT\\ST14b.vsk.csv : 88365/88999 , 99.28763244530838\n",
      "data\\barn data\\Starling_Trials_07-12-2019_11-00-00RESULT\\ST17b.vsk.csv\n",
      "Data data\\barn data\\Starling_Trials_07-12-2019_11-00-00RESULT\\ST17b.vsk.csv : 88237/88999 , 99.14381060461353\n",
      "data\\barn data\\Starling_Trials_07-12-2019_11-15-00RESULT\n",
      "data\\barn data\\Starling_Trials_07-12-2019_11-15-00RESULT\\ST01b.vsk.csv\n",
      "Data data\\barn data\\Starling_Trials_07-12-2019_11-15-00RESULT\\ST01b.vsk.csv : 14344/14345 , 99.99302892994075\n",
      "data\\barn data\\Starling_Trials_07-12-2019_11-15-00RESULT\\ST02b.vsk.csv\n",
      "Data data\\barn data\\Starling_Trials_07-12-2019_11-15-00RESULT\\ST02b.vsk.csv : 14344/14345 , 99.99302892994075\n",
      "data\\barn data\\Starling_Trials_07-12-2019_11-15-00RESULT\\ST06b.vsk.csv\n",
      "Data data\\barn data\\Starling_Trials_07-12-2019_11-15-00RESULT\\ST06b.vsk.csv : 14345/14345 , 100.0\n",
      "data\\barn data\\Starling_Trials_07-12-2019_11-15-00RESULT\\ST07b.vsk.csv\n",
      "Data data\\barn data\\Starling_Trials_07-12-2019_11-15-00RESULT\\ST07b.vsk.csv : 14345/14345 , 100.0\n",
      "data\\barn data\\Starling_Trials_07-12-2019_11-15-00RESULT\\ST08b.vsk.csv\n",
      "Data data\\barn data\\Starling_Trials_07-12-2019_11-15-00RESULT\\ST08b.vsk.csv : 14344/14345 , 99.99302892994075\n",
      "data\\barn data\\Starling_Trials_07-12-2019_11-15-00RESULT\\ST09.vsk.csv\n",
      "Data data\\barn data\\Starling_Trials_07-12-2019_11-15-00RESULT\\ST09.vsk.csv : 14345/14345 , 100.0\n",
      "data\\barn data\\Starling_Trials_07-12-2019_11-15-00RESULT\\ST11b.vsk.csv\n",
      "Data data\\barn data\\Starling_Trials_07-12-2019_11-15-00RESULT\\ST11b.vsk.csv : 14345/14345 , 100.0\n",
      "data\\barn data\\Starling_Trials_07-12-2019_11-15-00RESULT\\ST12a.vsk.csv\n",
      "Data data\\barn data\\Starling_Trials_07-12-2019_11-15-00RESULT\\ST12a.vsk.csv : 14344/14345 , 99.99302892994075\n",
      "data\\barn data\\Starling_Trials_07-12-2019_11-15-00RESULT\\ST13b.vsk.csv\n",
      "Data data\\barn data\\Starling_Trials_07-12-2019_11-15-00RESULT\\ST13b.vsk.csv : 13257/14345 , 92.41547577553155\n",
      "data\\barn data\\Starling_Trials_07-12-2019_11-15-00RESULT\\ST14b.vsk.csv\n",
      "Data data\\barn data\\Starling_Trials_07-12-2019_11-15-00RESULT\\ST14b.vsk.csv : 14344/14345 , 99.99302892994075\n",
      "data\\barn data\\Starling_Trials_07-12-2019_11-15-00RESULT\\ST17b.vsk.csv\n",
      "Data data\\barn data\\Starling_Trials_07-12-2019_11-15-00RESULT\\ST17b.vsk.csv : 14344/14345 , 99.99302892994075\n"
     ]
    }
   ],
   "source": [
    "for fileDir in directoryNames : \n",
    "    print(fileDir)\n",
    "    files = glob.glob(os.path.join(fileDir,\"*.csv\"))\n",
    "    patterns = []\n",
    "    totalFrameData = []\n",
    "    cleanFrameData = []\n",
    "    portionFrameData = []\n",
    "    \n",
    "    for file in files: \n",
    "        patterns.append(file)\n",
    "        df = pd.read_csv(file)\n",
    "        print(file)\n",
    "        dfClean = df.dropna(subset = ['X'])\n",
    "        totalFrames = df.shape[0]\n",
    "        totalFrameData.append(totalFrames)\n",
    "        cleanFrames = dfClean.shape[0]\n",
    "        cleanFrameData.append(cleanFrames)\n",
    "        percent = cleanFrames * 100 / totalFrames\n",
    "        portionFrameData.append(percent)\n",
    "        print(\"Data {0} : {1}/{2} , {3}\".format(file, cleanFrames, totalFrames, percent))\n",
    "        \n",
    "    summary = {\"file\":files, \"totalFrames\": totalFrameData, \"cleanFrames\": cleanFrameData, \"percent\" : portionFrameData }\n",
    "    dFrameSummary = pd.DataFrame(data = summary) \n",
    "    #dataFileName = os.path.basename(fileDir)\n",
    "    \n",
    "    dFrameSummary.to_csv(fileDir + \"_summary.csv\")"
   ]
  },
  {
   "cell_type": "code",
   "execution_count": null,
   "metadata": {},
   "outputs": [],
   "source": []
  },
  {
   "cell_type": "code",
   "execution_count": null,
   "metadata": {},
   "outputs": [],
   "source": []
  }
 ],
 "metadata": {
  "kernelspec": {
   "display_name": "starlingtest",
   "language": "python",
   "name": "starlingtest"
  },
  "language_info": {
   "codemirror_mode": {
    "name": "ipython",
    "version": 3
   },
   "file_extension": ".py",
   "mimetype": "text/x-python",
   "name": "python",
   "nbconvert_exporter": "python",
   "pygments_lexer": "ipython3",
   "version": "3.8.3"
  }
 },
 "nbformat": 4,
 "nbformat_minor": 4
}
